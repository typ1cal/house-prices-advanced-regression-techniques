{
 "cells": [
  {
   "cell_type": "code",
   "execution_count": 37,
   "metadata": {},
   "outputs": [
    {
     "name": "stdout",
     "output_type": "stream",
     "text": [
      "Train model on 1451 examples\n",
      "Model trained in 0:00:01.173298\n",
      "Training RMSE: 0.07382396023952678\n",
      "Submission file created: submission.csv\n"
     ]
    }
   ],
   "source": [
    "import pandas as pd\n",
    "import numpy as np\n",
    "import ydf\n",
    "from sklearn.metrics import mean_squared_error\n",
    "\n",
    "# Load the training data\n",
    "train_data = pd.read_csv('cleaned_train_data.csv')\n",
    "\n",
    "# Drop 'LogSalePrice' and 'Id' from the features\n",
    "X_train = train_data.drop(columns=['LogSalePrice', 'SalePrice','Id'])\n",
    "y_train = train_data['LogSalePrice']  # This is the target variable\n",
    "\n",
    "# Combine X_train and y_train into a single DataFrame for model training\n",
    "train_df = pd.concat([X_train, y_train], axis=1)\n",
    "\n",
    "# Train a Random Forest model for regression\n",
    "model = ydf.RandomForestLearner(task=ydf.Task.REGRESSION, label=\"LogSalePrice\").train(train_df)\n",
    "\n",
    "# Evaluate the model on the training data\n",
    "train_predictions = model.predict(train_df)\n",
    "rmse = np.sqrt(mean_squared_error(y_train, train_predictions))\n",
    "print(f\"Training RMSE: {rmse}\")\n",
    "\n",
    "# Load the test data\n",
    "test_data = pd.read_csv('cleaned_test.csv')\n",
    "test_ids = test_data['Id']  # Keep the test IDs for submission\n",
    "X_test = test_data.drop(columns=['Id'])  # Drop 'Id' from the test features\n",
    "\n",
    "# Predict LogSalePrice for the test data\n",
    "log_sale_price_pred = model.predict(X_test)\n",
    "\n",
    "# Convert LogSalePrice to SalePrice using exponentiation\n",
    "sale_price_pred = np.exp(log_sale_price_pred)\n",
    "\n",
    "# Prepare the submission file with 'Id' and 'SalePrice'\n",
    "submission = pd.DataFrame({'Id': test_ids, 'SalePrice': sale_price_pred})\n",
    "submission.to_csv('submission.csv', index=False)\n",
    "\n",
    "print(\"Submission file created: submission.csv\")\n"
   ]
  }
 ],
 "metadata": {
  "kernelspec": {
   "display_name": "Python 3",
   "language": "python",
   "name": "python3"
  },
  "language_info": {
   "codemirror_mode": {
    "name": "ipython",
    "version": 3
   },
   "file_extension": ".py",
   "mimetype": "text/x-python",
   "name": "python",
   "nbconvert_exporter": "python",
   "pygments_lexer": "ipython3",
   "version": "3.12.5"
  }
 },
 "nbformat": 4,
 "nbformat_minor": 2
}
